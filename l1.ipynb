{
 "cells": [
  {
   "cell_type": "code",
   "execution_count": 1,
   "metadata": {
    "collapsed": false
   },
   "outputs": [],
   "source": [
    "#%%\n",
    "import numpy as np\n",
    "import theano\n",
    "import theano.tensor as T\n",
    "\n",
    "from collections import OrderedDict\n",
    "\n",
    "import matplotlib.pyplot as plt\n",
    "%matplotlib inline"
   ]
  },
  {
   "cell_type": "markdown",
   "metadata": {},
   "source": [
    "# Introduction to Theano\n",
    "\n",
    "Theano is a library for doing symbolic computaion. To understand this a comparison\n",
    "with numpy as probably best...\n",
    "\n",
    "Lets create to matrices and calculate their product.."
   ]
  },
  {
   "cell_type": "code",
   "execution_count": 2,
   "metadata": {
    "collapsed": false
   },
   "outputs": [
    {
     "name": "stdout",
     "output_type": "stream",
     "text": [
      "[[ 0.77392937  0.51535409  0.66996421  0.51492404  0.41317254]\n",
      " [ 1.01905668  0.45176267  1.45178866  0.28764236  0.80781223]]\n"
     ]
    }
   ],
   "source": [
    "#%%\n",
    "x = np.random.rand(2,3)\n",
    "y = np.random.rand(3,5)\n",
    "\n",
    "z = np.dot(x,y)\n",
    "print(z)"
   ]
  },
  {
   "cell_type": "markdown",
   "metadata": {},
   "source": [
    "So what happened there? We made two matrices and in the process space was allocated\n",
    "and filled with some random numbers. We then calculated their product, some more\n",
    "space was allocated for the resulut and then the actual computaion took place!\n",
    "\n",
    "Lets do the same but using Theano..."
   ]
  },
  {
   "cell_type": "code",
   "execution_count": 3,
   "metadata": {
    "collapsed": false
   },
   "outputs": [
    {
     "name": "stdout",
     "output_type": "stream",
     "text": [
      "dot.0\n"
     ]
    }
   ],
   "source": [
    "#%%\n",
    "x = T.matrix()\n",
    "y = T.matrix()\n",
    "\n",
    "z = T.dot(x,y)\n",
    "print(z)"
   ]
  },
  {
   "cell_type": "markdown",
   "metadata": {},
   "source": [
    "It looks similar but is in fact very different. No space was allocated no numbers\n",
    "exist within the matrices, no computation took place. The two variables x,y are just\n",
    "boxes which at some point in the future can contain data - the size of the matrices has\n",
    "not yet been specified. The result z will take the contents of the boxes and at some\n",
    "later point calculate the result, usually on a GPU. Theano is lazy...\n",
    "\n",
    "How to actualy do the computation? We use a theano function..."
   ]
  },
  {
   "cell_type": "code",
   "execution_count": 4,
   "metadata": {
    "collapsed": false
   },
   "outputs": [],
   "source": [
    "#%%\n",
    "f = theano.function([x,y],z)"
   ]
  },
  {
   "cell_type": "markdown",
   "metadata": {},
   "source": [
    "The first argument is a list of input variables - the boxes we created. The second\n",
    "argument is the output, in this case z. To use this function we need to specify some\n",
    "data..."
   ]
  },
  {
   "cell_type": "code",
   "execution_count": 5,
   "metadata": {
    "collapsed": false
   },
   "outputs": [],
   "source": [
    "#%%\n",
    "x_ = np.random.rand(2,3).astype('float32')\n",
    "y_ = np.random.rand(3,6).astype('float32')"
   ]
  },
  {
   "cell_type": "markdown",
   "metadata": {},
   "source": [
    "Its really important that we convert to 32 bit float since Theano is used on GPU's\n",
    "and most do not have support for 64 bit arithmetic...\n",
    "\n",
    "We can now use this function...we should get a matrix of size 2x6"
   ]
  },
  {
   "cell_type": "code",
   "execution_count": 6,
   "metadata": {
    "collapsed": false
   },
   "outputs": [
    {
     "name": "stdout",
     "output_type": "stream",
     "text": [
      "[[ 0.93808706  0.47528976  0.73181014  0.8310717   0.78153427  1.34468701]\n",
      " [ 0.97384735  0.48261079  0.75044344  0.85351861  0.8545223   1.34327915]]\n"
     ]
    }
   ],
   "source": [
    "#%%\n",
    "print(f(x_,y_))"
   ]
  },
  {
   "cell_type": "markdown",
   "metadata": {},
   "source": [
    "This function will work with matrices of any size as long as the dimensions\n",
    "agree (the last dim of x should be the same as first dim of y)"
   ]
  },
  {
   "cell_type": "code",
   "execution_count": 7,
   "metadata": {
    "collapsed": false
   },
   "outputs": [
    {
     "name": "stdout",
     "output_type": "stream",
     "text": [
      "[[ 76.19536977  77.577412    71.98574473 ...,  68.47699516  71.44991316\n",
      "   68.29570919]\n",
      " [ 71.8880652   77.06731183  70.6811484  ...,  68.62301482  64.02230922\n",
      "   70.84369871]\n",
      " [ 72.50421841  75.96197356  72.2027585  ...,  63.50477388  66.04461734\n",
      "   68.00753017]\n",
      " ..., \n",
      " [ 73.58246917  77.90906656  75.92221037 ...,  66.2387622   71.30710247\n",
      "   73.07298482]\n",
      " [ 79.14656685  80.06296591  78.36077087 ...,  66.84123124  73.38044538\n",
      "   73.4694513 ]\n",
      " [ 73.85447462  82.2036099   75.31468489 ...,  71.18615556  73.80706612\n",
      "   73.31360704]]\n"
     ]
    }
   ],
   "source": [
    "#%%\n",
    "x_ = np.random.rand(200,300).astype('float32')\n",
    "y_ = np.random.rand(300,600).astype('float32')\n",
    "\n",
    "print(f(x_,y_))"
   ]
  },
  {
   "cell_type": "code",
   "execution_count": 8,
   "metadata": {
    "collapsed": false
   },
   "outputs": [
    {
     "ename": "ValueError",
     "evalue": "Shape mismatch: x has 30 cols (and 200 rows) but y has 300 rows (and 600 cols)\nApply node that caused the error: Dot22(<TensorType(float64, matrix)>, <TensorType(float64, matrix)>)\nToposort index: 0\nInputs types: [TensorType(float64, matrix), TensorType(float64, matrix)]\nInputs shapes: [(200, 30), (300, 600)]\nInputs strides: [(240, 8), (4800, 8)]\nInputs values: ['not shown', 'not shown']\nOutputs clients: [['output']]\n\nHINT: Re-running with most Theano optimization disabled could give you a back-trace of when this node was created. This can be done with by setting the Theano flag 'optimizer=fast_compile'. If that does not work, Theano optimizations can be disabled with 'optimizer=None'.\nHINT: Use the Theano flag 'exception_verbosity=high' for a debugprint and storage map footprint of this apply node.",
     "output_type": "error",
     "traceback": [
      "\u001b[0;31m---------------------------------------------------------------------------\u001b[0m",
      "\u001b[0;31mValueError\u001b[0m                                Traceback (most recent call last)",
      "\u001b[0;32m/home/josh-gree/anaconda3/lib/python3.6/site-packages/theano/compile/function_module.py\u001b[0m in \u001b[0;36m__call__\u001b[0;34m(self, *args, **kwargs)\u001b[0m\n\u001b[1;32m    858\u001b[0m         \u001b[0;32mtry\u001b[0m\u001b[0;34m:\u001b[0m\u001b[0;34m\u001b[0m\u001b[0m\n\u001b[0;32m--> 859\u001b[0;31m             \u001b[0moutputs\u001b[0m \u001b[0;34m=\u001b[0m \u001b[0mself\u001b[0m\u001b[0;34m.\u001b[0m\u001b[0mfn\u001b[0m\u001b[0;34m(\u001b[0m\u001b[0;34m)\u001b[0m\u001b[0;34m\u001b[0m\u001b[0m\n\u001b[0m\u001b[1;32m    860\u001b[0m         \u001b[0;32mexcept\u001b[0m \u001b[0mException\u001b[0m\u001b[0;34m:\u001b[0m\u001b[0;34m\u001b[0m\u001b[0m\n",
      "\u001b[0;31mValueError\u001b[0m: Shape mismatch: x has 30 cols (and 200 rows) but y has 300 rows (and 600 cols)",
      "\nDuring handling of the above exception, another exception occurred:\n",
      "\u001b[0;31mValueError\u001b[0m                                Traceback (most recent call last)",
      "\u001b[0;32m<ipython-input-8-8c455c8ddc55>\u001b[0m in \u001b[0;36m<module>\u001b[0;34m()\u001b[0m\n\u001b[1;32m      3\u001b[0m \u001b[0my_\u001b[0m \u001b[0;34m=\u001b[0m \u001b[0mnp\u001b[0m\u001b[0;34m.\u001b[0m\u001b[0mrandom\u001b[0m\u001b[0;34m.\u001b[0m\u001b[0mrand\u001b[0m\u001b[0;34m(\u001b[0m\u001b[0;36m300\u001b[0m\u001b[0;34m,\u001b[0m\u001b[0;36m600\u001b[0m\u001b[0;34m)\u001b[0m\u001b[0;34m.\u001b[0m\u001b[0mastype\u001b[0m\u001b[0;34m(\u001b[0m\u001b[0;34m'float32'\u001b[0m\u001b[0;34m)\u001b[0m\u001b[0;34m\u001b[0m\u001b[0m\n\u001b[1;32m      4\u001b[0m \u001b[0;34m\u001b[0m\u001b[0m\n\u001b[0;32m----> 5\u001b[0;31m \u001b[0mprint\u001b[0m\u001b[0;34m(\u001b[0m\u001b[0mf\u001b[0m\u001b[0;34m(\u001b[0m\u001b[0mx_\u001b[0m\u001b[0;34m,\u001b[0m\u001b[0my_\u001b[0m\u001b[0;34m)\u001b[0m\u001b[0;34m)\u001b[0m\u001b[0;34m\u001b[0m\u001b[0m\n\u001b[0m",
      "\u001b[0;32m/home/josh-gree/anaconda3/lib/python3.6/site-packages/theano/compile/function_module.py\u001b[0m in \u001b[0;36m__call__\u001b[0;34m(self, *args, **kwargs)\u001b[0m\n\u001b[1;32m    869\u001b[0m                     \u001b[0mnode\u001b[0m\u001b[0;34m=\u001b[0m\u001b[0mself\u001b[0m\u001b[0;34m.\u001b[0m\u001b[0mfn\u001b[0m\u001b[0;34m.\u001b[0m\u001b[0mnodes\u001b[0m\u001b[0;34m[\u001b[0m\u001b[0mself\u001b[0m\u001b[0;34m.\u001b[0m\u001b[0mfn\u001b[0m\u001b[0;34m.\u001b[0m\u001b[0mposition_of_error\u001b[0m\u001b[0;34m]\u001b[0m\u001b[0;34m,\u001b[0m\u001b[0;34m\u001b[0m\u001b[0m\n\u001b[1;32m    870\u001b[0m                     \u001b[0mthunk\u001b[0m\u001b[0;34m=\u001b[0m\u001b[0mthunk\u001b[0m\u001b[0;34m,\u001b[0m\u001b[0;34m\u001b[0m\u001b[0m\n\u001b[0;32m--> 871\u001b[0;31m                     storage_map=getattr(self.fn, 'storage_map', None))\n\u001b[0m\u001b[1;32m    872\u001b[0m             \u001b[0;32melse\u001b[0m\u001b[0;34m:\u001b[0m\u001b[0;34m\u001b[0m\u001b[0m\n\u001b[1;32m    873\u001b[0m                 \u001b[0;31m# old-style linkers raise their own exceptions\u001b[0m\u001b[0;34m\u001b[0m\u001b[0;34m\u001b[0m\u001b[0m\n",
      "\u001b[0;32m/home/josh-gree/anaconda3/lib/python3.6/site-packages/theano/gof/link.py\u001b[0m in \u001b[0;36mraise_with_op\u001b[0;34m(node, thunk, exc_info, storage_map)\u001b[0m\n\u001b[1;32m    312\u001b[0m         \u001b[0;31m# extra long error message in that case.\u001b[0m\u001b[0;34m\u001b[0m\u001b[0;34m\u001b[0m\u001b[0m\n\u001b[1;32m    313\u001b[0m         \u001b[0;32mpass\u001b[0m\u001b[0;34m\u001b[0m\u001b[0m\n\u001b[0;32m--> 314\u001b[0;31m     \u001b[0mreraise\u001b[0m\u001b[0;34m(\u001b[0m\u001b[0mexc_type\u001b[0m\u001b[0;34m,\u001b[0m \u001b[0mexc_value\u001b[0m\u001b[0;34m,\u001b[0m \u001b[0mexc_trace\u001b[0m\u001b[0;34m)\u001b[0m\u001b[0;34m\u001b[0m\u001b[0m\n\u001b[0m\u001b[1;32m    315\u001b[0m \u001b[0;34m\u001b[0m\u001b[0m\n\u001b[1;32m    316\u001b[0m \u001b[0;34m\u001b[0m\u001b[0m\n",
      "\u001b[0;32m/home/josh-gree/anaconda3/lib/python3.6/site-packages/six.py\u001b[0m in \u001b[0;36mreraise\u001b[0;34m(tp, value, tb)\u001b[0m\n\u001b[1;32m    683\u001b[0m             \u001b[0mvalue\u001b[0m \u001b[0;34m=\u001b[0m \u001b[0mtp\u001b[0m\u001b[0;34m(\u001b[0m\u001b[0;34m)\u001b[0m\u001b[0;34m\u001b[0m\u001b[0m\n\u001b[1;32m    684\u001b[0m         \u001b[0;32mif\u001b[0m \u001b[0mvalue\u001b[0m\u001b[0;34m.\u001b[0m\u001b[0m__traceback__\u001b[0m \u001b[0;32mis\u001b[0m \u001b[0;32mnot\u001b[0m \u001b[0mtb\u001b[0m\u001b[0;34m:\u001b[0m\u001b[0;34m\u001b[0m\u001b[0m\n\u001b[0;32m--> 685\u001b[0;31m             \u001b[0;32mraise\u001b[0m \u001b[0mvalue\u001b[0m\u001b[0;34m.\u001b[0m\u001b[0mwith_traceback\u001b[0m\u001b[0;34m(\u001b[0m\u001b[0mtb\u001b[0m\u001b[0;34m)\u001b[0m\u001b[0;34m\u001b[0m\u001b[0m\n\u001b[0m\u001b[1;32m    686\u001b[0m         \u001b[0;32mraise\u001b[0m \u001b[0mvalue\u001b[0m\u001b[0;34m\u001b[0m\u001b[0m\n\u001b[1;32m    687\u001b[0m \u001b[0;34m\u001b[0m\u001b[0m\n",
      "\u001b[0;32m/home/josh-gree/anaconda3/lib/python3.6/site-packages/theano/compile/function_module.py\u001b[0m in \u001b[0;36m__call__\u001b[0;34m(self, *args, **kwargs)\u001b[0m\n\u001b[1;32m    857\u001b[0m         \u001b[0mt0_fn\u001b[0m \u001b[0;34m=\u001b[0m \u001b[0mtime\u001b[0m\u001b[0;34m.\u001b[0m\u001b[0mtime\u001b[0m\u001b[0;34m(\u001b[0m\u001b[0;34m)\u001b[0m\u001b[0;34m\u001b[0m\u001b[0m\n\u001b[1;32m    858\u001b[0m         \u001b[0;32mtry\u001b[0m\u001b[0;34m:\u001b[0m\u001b[0;34m\u001b[0m\u001b[0m\n\u001b[0;32m--> 859\u001b[0;31m             \u001b[0moutputs\u001b[0m \u001b[0;34m=\u001b[0m \u001b[0mself\u001b[0m\u001b[0;34m.\u001b[0m\u001b[0mfn\u001b[0m\u001b[0;34m(\u001b[0m\u001b[0;34m)\u001b[0m\u001b[0;34m\u001b[0m\u001b[0m\n\u001b[0m\u001b[1;32m    860\u001b[0m         \u001b[0;32mexcept\u001b[0m \u001b[0mException\u001b[0m\u001b[0;34m:\u001b[0m\u001b[0;34m\u001b[0m\u001b[0m\n\u001b[1;32m    861\u001b[0m             \u001b[0;32mif\u001b[0m \u001b[0mhasattr\u001b[0m\u001b[0;34m(\u001b[0m\u001b[0mself\u001b[0m\u001b[0;34m.\u001b[0m\u001b[0mfn\u001b[0m\u001b[0;34m,\u001b[0m \u001b[0;34m'position_of_error'\u001b[0m\u001b[0;34m)\u001b[0m\u001b[0;34m:\u001b[0m\u001b[0;34m\u001b[0m\u001b[0m\n",
      "\u001b[0;31mValueError\u001b[0m: Shape mismatch: x has 30 cols (and 200 rows) but y has 300 rows (and 600 cols)\nApply node that caused the error: Dot22(<TensorType(float64, matrix)>, <TensorType(float64, matrix)>)\nToposort index: 0\nInputs types: [TensorType(float64, matrix), TensorType(float64, matrix)]\nInputs shapes: [(200, 30), (300, 600)]\nInputs strides: [(240, 8), (4800, 8)]\nInputs values: ['not shown', 'not shown']\nOutputs clients: [['output']]\n\nHINT: Re-running with most Theano optimization disabled could give you a back-trace of when this node was created. This can be done with by setting the Theano flag 'optimizer=fast_compile'. If that does not work, Theano optimizations can be disabled with 'optimizer=None'.\nHINT: Use the Theano flag 'exception_verbosity=high' for a debugprint and storage map footprint of this apply node."
     ]
    }
   ],
   "source": [
    "#%%\n",
    "x_ = np.random.rand(200,30).astype('float32')\n",
    "y_ = np.random.rand(300,600).astype('float32')\n",
    "\n",
    "print(f(x_,y_))"
   ]
  },
  {
   "cell_type": "markdown",
   "metadata": {},
   "source": [
    "We get an error due to dimension mismatch..."
   ]
  },
  {
   "cell_type": "markdown",
   "metadata": {},
   "source": [
    "## Scalars, Vectors and Matrices\n",
    "Theano can manipulate various data types. Lets do some more complex things..."
   ]
  },
  {
   "cell_type": "code",
   "execution_count": 9,
   "metadata": {
    "collapsed": false
   },
   "outputs": [
    {
     "name": "stdout",
     "output_type": "stream",
     "text": [
      "58.0\n",
      "0.9092974268256817\n",
      "2.095230946317315\n",
      "[ 2.  2.  2.  2.  2.]\n",
      "[[ 1.65750623  0.9985863   0.08165136  0.34941238  0.0427024 ]\n",
      " [ 0.17455818  1.60994256  0.05106277  0.97610599  0.62779748]\n",
      " [ 0.9499625   0.10699995  1.90161091  0.35821813  0.26351646]\n",
      " [ 0.6796028   0.20270863  0.50655931  1.60426182  0.13108216]\n",
      " [ 0.41821241  0.7466861   0.46865007  0.32314092  1.99426615]]\n",
      "[[ 56.   0.   0.   0.   0.]\n",
      " [  0.  56.   0.   0.   0.]\n",
      " [  0.   0.  56.   0.   0.]\n",
      " [  0.   0.   0.  56.   0.]\n",
      " [  0.   0.   0.   0.  56.]]\n",
      "[ 0.42073147  0.88014289  1.26601936  0.89806877  1.25603768]\n"
     ]
    }
   ],
   "source": [
    "#%%\n",
    "a = T.scalar()\n",
    "a_ = 2\n",
    "b = T.scalar()\n",
    "b_ = 56\n",
    "\n",
    "u = T.vector()\n",
    "u_ = np.random.rand(5).astype('float32')\n",
    "v = T.vector()\n",
    "v_ = np.ones(5).astype('float32')\n",
    "\n",
    "A = T.matrix()\n",
    "A_= np.eye(5).astype('float32')\n",
    "B = T.matrix()\n",
    "B_ = np.random.rand(5,5).astype('float32')\n",
    "\n",
    "f1 = a + b\n",
    "f2 = T.sin(a)\n",
    "\n",
    "f3 = T.dot(u,v)\n",
    "f4 = a*v\n",
    "\n",
    "f5 = A + B\n",
    "f6 = b*A\n",
    "f7 = T.dot(B,u)\n",
    "\n",
    "f1_ = theano.function([a,b],f1)\n",
    "f2_ = theano.function([a],f2)\n",
    "f3_ = theano.function([u,v],f3)\n",
    "f4_ = theano.function([a,v],f4)\n",
    "f5_ = theano.function([A,B],f5)\n",
    "f6_ = theano.function([b,A],f6)\n",
    "f7_ = theano.function([B,u],f7)\n",
    "\n",
    "print(f1_(a_,b_))\n",
    "print(f2_(a_))\n",
    "print(f3_(u_,v_))\n",
    "print(f4_(a_,v_))\n",
    "print(f5_(A_,B_))\n",
    "print(f6_(b_,A_))\n",
    "print(f7_(B_,u_))"
   ]
  },
  {
   "cell_type": "markdown",
   "metadata": {},
   "source": [
    "We can form large chains of computation with various intermediate steps..."
   ]
  },
  {
   "cell_type": "code",
   "execution_count": 10,
   "metadata": {
    "collapsed": false
   },
   "outputs": [
    {
     "name": "stdout",
     "output_type": "stream",
     "text": [
      "[[-7.05432464 -2.4230089  -1.16397461 -1.48535594  4.4935244 ]\n",
      " [ 6.190022   -0.45484789  3.75351636 -8.34118148 -2.11630841]\n",
      " [ 2.69066226 -2.48241353  3.03922826 -1.43662643 -2.51633348]\n",
      " [ 0.85255354 -3.14829289 -1.78805142 -2.37612974 -2.44438036]\n",
      " [ 5.59584637 -3.44232513 -4.3584814  -0.08236526  3.24226955]]\n"
     ]
    }
   ],
   "source": [
    "#%%\n",
    "a = T.scalar()\n",
    "A = T.matrix()\n",
    "B = T.matrix()\n",
    "\n",
    "Z = a*A - a*B\n",
    "Y = T.dot(A,-B)\n",
    "\n",
    "W = Z + Y\n",
    "\n",
    "res = theano.function([a,A,B],W)\n",
    "\n",
    "a_ = 10\n",
    "A_ = np.random.rand(5,5).astype('float32')\n",
    "B_ = np.random.rand(5,5).astype('float32')\n",
    "\n",
    "print(res(a_,A_,B_))"
   ]
  },
  {
   "cell_type": "markdown",
   "metadata": {},
   "source": [
    "## Derivatives\n",
    "Theano does derivatives for us, no need for algebra!\n",
    "\n",
    "Lets find the derivative of the following;\n",
    "$$ y = sin(x) $$\n",
    "$$ \\frac{dy}{dx} = cos(x) $$"
   ]
  },
  {
   "cell_type": "code",
   "execution_count": 11,
   "metadata": {
    "collapsed": false
   },
   "outputs": [],
   "source": [
    "#%%\n",
    "x = T.scalar()\n",
    "y = T.sin(x)\n",
    "y_ = theano.function([x],y)\n",
    "\n",
    "dydx = T.grad(y,wrt=x)\n",
    "dydx_ = theano.function([x],dydx)"
   ]
  },
  {
   "cell_type": "markdown",
   "metadata": {},
   "source": [
    "Lets plot the results..."
   ]
  },
  {
   "cell_type": "code",
   "execution_count": 12,
   "metadata": {
    "collapsed": false
   },
   "outputs": [
    {
     "data": {
      "text/plain": [
       "<matplotlib.legend.Legend at 0xacde6dcc>"
      ]
     },
     "execution_count": 12,
     "metadata": {},
     "output_type": "execute_result"
    },
    {
     "data": {
      "image/png": "[encoded data removed]",
      "text/plain": [
       "<matplotlib.figure.Figure at 0xaade5b2c>"
      ]
     },
     "metadata": {},
     "output_type": "display_data"
    }
   ],
   "source": [
    "#%%\n",
    "\n",
    "xs = np.linspace(0,2*np.pi).astype('float32')\n",
    "\n",
    "ys = np.array([float(y_(k)) for k in xs])\n",
    "dydxs = np.array([float(dydx_(k)) for k in xs])\n",
    "\n",
    "plt.plot(xs,ys,label='ys')\n",
    "plt.plot(xs,dydxs,label='dydxs')\n",
    "plt.legend(loc=0)"
   ]
  },
  {
   "cell_type": "markdown",
   "metadata": {},
   "source": [
    "We can do much more complicated derivatives...\n",
    "$$ F(A,\\mathbf{x},\\mathbf{y}) = \\frac{1}{2} ||\\mathbf{y} - A\\mathbf{x}||^2 = \\frac{1}{2}(\\mathbf{y} - A\\mathbf{x})^T (\\mathbf{y}  - A\\mathbf{x}) $$\n",
    "$$ \\frac{\\partial F}{\\partial \\mathbf{x}} = (A\\mathbf{x} - \\mathbf{y})^T A $$"
   ]
  },
  {
   "cell_type": "code",
   "execution_count": 13,
   "metadata": {
    "collapsed": false
   },
   "outputs": [
    {
     "name": "stdout",
     "output_type": "stream",
     "text": [
      "[ 6.4708266   4.20361255  7.35739793  6.29697491  5.97431813]\n",
      "[ 6.47082663  4.20361233  7.35739756  6.29697466  5.97431803]\n"
     ]
    }
   ],
   "source": [
    "#%%\n",
    "A = T.matrix()\n",
    "x = T.vector()\n",
    "y = T.vector()\n",
    "\n",
    "r = y - T.dot(A,x)\n",
    "f = 0.5*T.dot(r,r)\n",
    "\n",
    "dfdx = T.grad(f,wrt=x)\n",
    "dfdx_ = theano.function([A,x,y],dfdx)\n",
    "\n",
    "A_ = np.random.rand(5,5).astype('float32')\n",
    "x_ = np.random.rand(5).astype('float32')\n",
    "y_ = np.random.rand(5).astype('float32')\n",
    "\n",
    "print(dfdx_(A_,x_,y_))\n",
    "print(np.dot(np.dot(A_,x_) - y_,A_))"
   ]
  },
  {
   "cell_type": "markdown",
   "metadata": {},
   "source": [
    "Theano makes updating variables, the weights in the NN, really easy...But we need\n",
    "to understand shared variables first...These are variable that we need to initialise\n",
    "with data and which we are able to change..."
   ]
  },
  {
   "cell_type": "code",
   "execution_count": 14,
   "metadata": {
    "collapsed": false
   },
   "outputs": [
    {
     "name": "stdout",
     "output_type": "stream",
     "text": [
      "5\n",
      "24\n",
      "[[ 0.72260648  0.63073057  0.34068131]\n",
      " [ 0.59210879  0.67500979  0.15464243]]\n",
      "[[ 1.  0.  0.  0.]\n",
      " [ 0.  1.  0.  0.]\n",
      " [ 0.  0.  1.  0.]\n",
      " [ 0.  0.  0.  1.]]\n"
     ]
    }
   ],
   "source": [
    "#%%\n",
    "x = theano.shared(5)\n",
    "print(x.get_value())\n",
    "\n",
    "x.set_value(24)\n",
    "print(x.get_value())\n",
    "\n",
    "x = theano.shared(np.random.rand(2,3).astype('float32'))\n",
    "print(x.get_value())\n",
    "\n",
    "x.set_value(np.eye(4).astype('float32'))\n",
    "print(x.get_value())"
   ]
  },
  {
   "cell_type": "markdown",
   "metadata": {},
   "source": [
    "We can update variable in the following way..."
   ]
  },
  {
   "cell_type": "code",
   "execution_count": 15,
   "metadata": {
    "collapsed": false
   },
   "outputs": [
    {
     "name": "stdout",
     "output_type": "stream",
     "text": [
      "0.0\n",
      "0.1\n",
      "0.2\n"
     ]
    }
   ],
   "source": [
    "#%%\n",
    "x = theano.shared(0.0)\n",
    "\n",
    "updates = OrderedDict()\n",
    "updates[x] = x + 0.1\n",
    "\n",
    "f = theano.function([],updates=updates)\n",
    "\n",
    "print(x.get_value())\n",
    "f()\n",
    "print(x.get_value())\n",
    "f()\n",
    "print(x.get_value())"
   ]
  },
  {
   "cell_type": "markdown",
   "metadata": {},
   "source": [
    "So each time we call the function f the updates are applied to the shared variable.\n",
    "We can update multiple variables at the same time...we can evan have a parameter that\n",
    "controls the update - so it's not always the same update!"
   ]
  },
  {
   "cell_type": "code",
   "execution_count": 16,
   "metadata": {
    "collapsed": false
   },
   "outputs": [
    {
     "name": "stdout",
     "output_type": "stream",
     "text": [
      "12.0\n",
      "46.0\n",
      "11.0\n",
      "-46.0\n"
     ]
    }
   ],
   "source": [
    "#%%\n",
    "x = theano.shared(10.0)\n",
    "y = theano.shared(23.0)\n",
    "a  = T.scalar()\n",
    "\n",
    "updates = OrderedDict()\n",
    "updates[x] = x + a\n",
    "updates[y] = y*a\n",
    "\n",
    "f = theano.function([a],updates=updates)\n",
    "\n",
    "f(2)\n",
    "print(x.get_value())\n",
    "print(y.get_value())\n",
    "\n",
    "f(-1)\n",
    "print(x.get_value())\n",
    "print(y.get_value())"
   ]
  },
  {
   "cell_type": "markdown",
   "metadata": {},
   "source": [
    "## Putting it all together..\n",
    "We are going to use theano to solve the following problem;\n",
    "$$ \\underset{x,y}{\\text{minimize}} \\; x^2 + y^2 + xy -2x $$\n",
    "We are looking for the values of $x,y$ that makes $x^2 + y^2 + xy - 2x$ as small as\n",
    "possible...The general method is very similar to what we will do when teaching a neural\n",
    "network. Find the gradient at a particuar position and then change our initial guess by moving\n",
    "in the opposite direction..."
   ]
  },
  {
   "cell_type": "code",
   "execution_count": 17,
   "metadata": {
    "collapsed": false
   },
   "outputs": [],
   "source": [
    "#%%\n",
    "\n",
    "# initial guess at solution\n",
    "np.random.seed(26988)\n",
    "x0 = 100*np.random.rand()\n",
    "y0 = 100*np.random.rand()\n",
    "x = theano.shared(x0)\n",
    "y = theano.shared(y0)\n",
    "\n",
    "# the function we want to minimise\n",
    "f = x**2 + y**2 + x*y - 2*x\n",
    "\n",
    "# gradients\n",
    "dfdx = T.grad(f,wrt=x)\n",
    "dfdy = T.grad(f,wrt=y)\n",
    "\n",
    "#updates\n",
    "l_rate = 0.1\n",
    "updates = OrderedDict()\n",
    "updates[x] = x - l_rate*dfdx\n",
    "updates[y] = y - l_rate*dfdy\n",
    "\n",
    "update_step = theano.function([],updates=updates)\n",
    "f_val = theano.function([],f)"
   ]
  },
  {
   "cell_type": "markdown",
   "metadata": {},
   "source": [
    "The model is all set up now to solve the optimisation problem, all that remains is\n",
    "to repeatedly call our update function until we reach the minimum. According to wolframalpha\n",
    "the solution should be $x = \\frac{4}{3}, y = -\\frac{2}{3}$. Usually we would stop calling the update\n",
    "function once the gradient gets small (when dfdx and dfdy are small) but for now we will just do\n",
    "100 iterations..."
   ]
  },
  {
   "cell_type": "code",
   "execution_count": 18,
   "metadata": {
    "collapsed": false
   },
   "outputs": [
    {
     "name": "stdout",
     "output_type": "stream",
     "text": [
      "iter 0:\n",
      " @ x=26.706371521941673,y=43.482294589189074\n",
      " f_val = 3711.781793490513\n",
      "\n",
      "iter 10:\n",
      " @ x=-0.9581342447267399,y=3.5886253217986916\n",
      " f_val = 12.27413660831748\n",
      "\n",
      "iter 20:\n",
      " @ x=0.21971296611648924,y=0.5024268794823284\n",
      " f_val = -0.02832967557920849\n",
      "\n",
      "iter 30:\n",
      " @ x=0.9361502600814338,y=-0.26791661341159895\n",
      " f_val = -1.1749541062957967\n",
      "\n",
      "iter 40:\n",
      " @ x=1.1945931044994795,y=-0.5278821745261554\n",
      " f_val = -1.3140783391759283\n",
      "\n",
      "iter 50:\n",
      " @ x=1.284950515098497,y=-0.6182825981029735\n",
      " f_val = -1.330992375736991\n",
      "\n",
      "iter 60:\n",
      " @ x=1.316463087421559,y=-0.6497963854361967\n",
      " f_val = -1.3330487275403733\n",
      "\n",
      "iter 70:\n",
      " @ x=1.3274510366461114,y=-0.6607843689817791\n",
      " f_val = -1.3332987319131482\n",
      "\n",
      "iter 80:\n",
      " @ x=1.331282303140386,y=-0.6646156364455377\n",
      " f_val = -1.333329126608423\n",
      "\n",
      "iter 90:\n",
      " @ x=1.3326181833205433,y=-0.6659515166530805\n",
      " f_val = -1.3333328218937919\n",
      "\n"
     ]
    }
   ],
   "source": [
    "#%%\n",
    "#%%\n",
    "for i in range(100):\n",
    "    update_step()\n",
    "    if i % 10 == 0:\n",
    "        print('iter {}:\\n @ x={},y={}\\n f_val = {}\\n'.format(i,\n",
    "                                                           x.get_value(),\n",
    "                                                           y.get_value(),\n",
    "                                                           f_val()))"
   ]
  },
  {
   "cell_type": "code",
   "execution_count": null,
   "metadata": {
    "collapsed": true
   },
   "outputs": [],
   "source": []
  }
 ],
 "metadata": {
  "kernelspec": {
   "display_name": "Python 3",
   "language": "python",
   "name": "python3"
  },
  "language_info": {
   "codemirror_mode": {
    "name": "ipython",
    "version": 3
   },
   "file_extension": ".py",
   "mimetype": "text/x-python",
   "name": "python",
   "nbconvert_exporter": "python",
   "pygments_lexer": "ipython3",
   "version": "3.6.0"
  }
 },
 "nbformat": 4,
 "nbformat_minor": 2
}
