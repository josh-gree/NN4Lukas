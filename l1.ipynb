{
 "cells": [
  {
   "cell_type": "code",
   "execution_count": null,
   "metadata": {
    "collapsed": false
   },
   "outputs": [],
   "source": [
    "#%%\n",
    "import numpy as np\n",
    "import theano\n",
    "import theano.tensor as T"
   ]
  },
  {
   "cell_type": "markdown",
   "metadata": {},
   "source": [
    "# Introduction to Theano\n",
    "\n",
    "Theano is a library for doing symbolic computaion. To understand this a comparison\n",
    "with numpy as probably best...\n",
    "\n",
    "Lets create to matrices and calculate their product.."
   ]
  },
  {
   "cell_type": "code",
   "execution_count": null,
   "metadata": {
    "collapsed": false
   },
   "outputs": [],
   "source": [
    "#%%\n",
    "x = np.random.rand(2,3)\n",
    "y = np.random.rand(3,5)\n",
    "\n",
    "z = np.dot(x,y)\n",
    "print(z)"
   ]
  },
  {
   "cell_type": "markdown",
   "metadata": {},
   "source": [
    "So what happened there? We made two matrices and in the process space was allocated\n",
    "and filled with some random numbers. We then calculated their product, some more\n",
    "space was allocated for the resulut and then the actual computaion took place!\n",
    "\n",
    "Lets do the same but using Theano..."
   ]
  },
  {
   "cell_type": "code",
   "execution_count": null,
   "metadata": {
    "collapsed": false
   },
   "outputs": [],
   "source": [
    "#%%\n",
    "x = T.matrix()\n",
    "y = T.matrix()\n",
    "\n",
    "z = T.dot(x,y)\n",
    "print(z)"
   ]
  },
  {
   "cell_type": "markdown",
   "metadata": {},
   "source": [
    "It looks similar but is in fact very different. No space was allocated no numbers\n",
    "exist within the matrices, no computation took place. The two variables x,y are just\n",
    "boxes which at some point in the future can contain data - the size of the matrices has\n",
    "not yet been specified. The result z will take the contents of the boxes and at some\n",
    "later point calculate the result, usually on a GPU. Theano is lazy...\n",
    "\n",
    "How to actualy do the computation? We use a theano function..."
   ]
  },
  {
   "cell_type": "code",
   "execution_count": null,
   "metadata": {
    "collapsed": false
   },
   "outputs": [],
   "source": [
    "#%%\n",
    "f = theano.function([x,y],z)"
   ]
  },
  {
   "cell_type": "markdown",
   "metadata": {},
   "source": [
    "The first argument is a list of input variables - the boxes we created. The second\n",
    "argument is the output, in this case z. To use this function we need to specify some\n",
    "data..."
   ]
  },
  {
   "cell_type": "code",
   "execution_count": null,
   "metadata": {
    "collapsed": false
   },
   "outputs": [],
   "source": [
    "#%%\n",
    "x_ = np.random.rand(2,3).astype('float32')\n",
    "y_ = np.random.rand(3,6).astype('float32')"
   ]
  },
  {
   "cell_type": "markdown",
   "metadata": {},
   "source": [
    "Its really important that we convert to 32 bit float since Theano is used on GPU's\n",
    "and most do not have support for 64 bit arithmetic...\n",
    "\n",
    "We can now use this function...we should get a matrix of size 2x6"
   ]
  },
  {
   "cell_type": "code",
   "execution_count": null,
   "metadata": {
    "collapsed": false
   },
   "outputs": [],
   "source": [
    "#%%\n",
    "print(f(x_,y_))"
   ]
  },
  {
   "cell_type": "markdown",
   "metadata": {},
   "source": [
    "This function will work with matrices of any size as long as the dimensions\n",
    "agree (the last dim of x should be the same as first dim of y)"
   ]
  },
  {
   "cell_type": "code",
   "execution_count": null,
   "metadata": {
    "collapsed": false
   },
   "outputs": [],
   "source": [
    "#%%\n",
    "x_ = np.random.rand(200,300).astype('float32')\n",
    "y_ = np.random.rand(300,600).astype('float32')\n",
    "\n",
    "print(f(x_,y_))"
   ]
  },
  {
   "cell_type": "code",
   "execution_count": null,
   "metadata": {
    "collapsed": false
   },
   "outputs": [],
   "source": [
    "#%%\n",
    "x_ = np.random.rand(200,30).astype('float32')\n",
    "y_ = np.random.rand(300,600).astype('float32')\n",
    "\n",
    "print(f(x_,y_))"
   ]
  },
  {
   "cell_type": "markdown",
   "metadata": {},
   "source": [
    "We get an error due to dimension mismatch..."
   ]
  },
  {
   "cell_type": "markdown",
   "metadata": {},
   "source": [
    "## Scalars, Vectors and Matrices\n",
    "Theano can manipulate various data types. Lets do some more complex things..."
   ]
  },
  {
   "cell_type": "code",
   "execution_count": null,
   "metadata": {
    "collapsed": false
   },
   "outputs": [],
   "source": [
    "#%%\n",
    "a = T.scalar()\n",
    "a_ = 2\n",
    "b = T.scalar()\n",
    "b_ = 56\n",
    "\n",
    "u = T.vector()\n",
    "u_ = np.random.rand(5).astype('float32')\n",
    "v = T.vector()\n",
    "v_ = np.ones(5).astype('float32')\n",
    "\n",
    "A = T.matrix()\n",
    "A_= np.eye(5).astype('float32')\n",
    "B = T.matrix()\n",
    "B_ = np.random.rand(5,5).astype('float32')\n",
    "\n",
    "f1 = a + b\n",
    "f2 = T.sin(a)\n",
    "\n",
    "f3 = T.dot(u,v)\n",
    "f4 = a*v\n",
    "\n",
    "f5 = A + B\n",
    "f6 = b*A\n",
    "f7 = T.dot(B,u)\n",
    "\n",
    "f1_ = theano.function([a,b],f1)\n",
    "f2_ = theano.function([a],f2)\n",
    "f3_ = theano.function([u,v],f3)\n",
    "f4_ = theano.function([a,v],f4)\n",
    "f5_ = theano.function([A,B],f5)\n",
    "f6_ = theano.function([b,A],f6)\n",
    "f7_ = theano.function([B,u],f7)\n",
    "\n",
    "print(f1_(a_,b_))\n",
    "print(f2_(a_))\n",
    "print(f3_(u_,v_))\n",
    "print(f4_(a_,v_))\n",
    "print(f5_(A_,B_))\n",
    "print(f6_(b_,A_))\n",
    "print(f7_(B_,u_))"
   ]
  },
  {
   "cell_type": "markdown",
   "metadata": {},
   "source": [
    "We can form large chains of computation with various intermediate steps..."
   ]
  },
  {
   "cell_type": "code",
   "execution_count": null,
   "metadata": {
    "collapsed": false
   },
   "outputs": [],
   "source": [
    "#%%\n",
    "a = T.scalar()\n",
    "A = T.matrix()\n",
    "B = T.matrix()\n",
    "\n",
    "Z = a*A - a*B\n",
    "Y = T.dot(A,-B)\n",
    "\n",
    "W = Z + Y\n",
    "\n",
    "res = theano.function([a,A,B],W)\n",
    "\n",
    "a_ = 10\n",
    "A_ = np.random.rand(5,5).astype('float32')\n",
    "B_ = np.random.rand(5,5).astype('float32')\n",
    "\n",
    "print(res(a_,A_,B_))"
   ]
  },
  {
   "cell_type": "markdown",
   "metadata": {},
   "source": [
    "## Derivatives\n",
    "Theano does derivatives for us, no need for algebra!\n",
    "\n",
    "Lets find the derivative of the following;\n",
    "$$ y = sin(x) $$\n",
    "$$ \\frac{dy}{dx} = cos(x) $$"
   ]
  }
 ],
 "metadata": {},
 "nbformat": 4,
 "nbformat_minor": 2
}
